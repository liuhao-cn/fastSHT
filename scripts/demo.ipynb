{
 "cells": [
  {
   "cell_type": "code",
   "execution_count": 1,
   "id": "eb5e2166-9c9e-4186-83da-b1f73bdea21e",
   "metadata": {},
   "outputs": [],
   "source": [
    "import sys as sys\n",
    "import os\n",
    "n_proc = 8\n",
    "os.environ[\"OMP_NUM_THREADS\"] = str(n_proc) # export OMP_NUM_THREADS=4\n",
    "os.environ[\"OPENBLAS_NUM_THREADS\"] = str(n_proc) # export OPENBLAS_NUM_THREADS=4\n",
    "os.environ[\"MKL_NUM_THREADS\"] = str(n_proc) # export MKL_NUM_THREADS=6\n",
    "os.environ[\"VECLIB_MAXIMUM_THREADS\"] = str(n_proc) # export VECLIB_MAXIMUM_THREADS=4\n",
    "os.environ[\"NUMEXPR_NUM_THREADS\"] = str(n_proc) # export NUMEXPR_NUM_THREADS=6\n",
    "\n",
    "sys.path.append('..')\n",
    "import SHT\n",
    "\n"
   ]
  },
  {
   "cell_type": "code",
   "execution_count": 2,
   "id": "fd3b52db-f86e-4279-8ed4-b83f2a17dd9a",
   "metadata": {},
   "outputs": [],
   "source": [
    "import numpy as np\n",
    "\n",
    "import healpy as hp\n",
    "import matplotlib.pyplot as plt"
   ]
  },
  {
   "cell_type": "code",
   "execution_count": 3,
   "id": "1e1e7026-c0cf-47d3-a8ad-b76b98c3a4c9",
   "metadata": {},
   "outputs": [],
   "source": [
    "nside = 128 # nside\n",
    "lmax = 383 # lmax\n",
    "nsim = 200 # number of maps\n",
    "niter = 3 # number of iterations"
   ]
  },
  {
   "cell_type": "code",
   "execution_count": 4,
   "id": "10dd093c-2cab-4be0-87c6-211e4ed83df9",
   "metadata": {},
   "outputs": [],
   "source": [
    "# creating test temperature and polarization maps \n",
    "test_cl = np.array([1 for l in range(1,lmax+1)] )\n",
    "np.random.seed(23333)\n",
    "maps = np.asfortranarray(np.transpose([hp.sphtfunc.synfast(test_cl, nside, lmax)\n",
    "                 for i in range(nsim)]) )\n",
    "Q = np.asfortranarray(np.transpose([hp.sphtfunc.synfast(test_cl, nside, lmax)\n",
    "                 for i in range(nsim)]) )\n",
    "U = np.asfortranarray(np.transpose([hp.sphtfunc.synfast(test_cl, nside, lmax)\n",
    "                 for i in range(nsim)]) )"
   ]
  },
  {
   "cell_type": "markdown",
   "id": "554a2ae7-a890-4ff6-8f4d-f1c048bdecf9",
   "metadata": {},
   "source": [
    "# Maps to alms"
   ]
  },
  {
   "cell_type": "code",
   "execution_count": 5,
   "id": "a3142b3c-c309-400b-8cb8-74b9bebc6d0f",
   "metadata": {},
   "outputs": [],
   "source": [
    "# initializing SHT, can\n",
    "sht = SHT.SHT(nside, lmax, nsim)"
   ]
  },
  {
   "cell_type": "code",
   "execution_count": 6,
   "id": "fa488787-c22c-4300-a0b5-e870246a7b20",
   "metadata": {},
   "outputs": [],
   "source": [
    "# maps to alms\n",
    "alms = sht.t2alm(maps)"
   ]
  },
  {
   "cell_type": "code",
   "execution_count": 7,
   "id": "387e83f0-d2fa-4760-8e5a-0d7fbf6d7463",
   "metadata": {},
   "outputs": [],
   "source": [
    "# convert alms into the healpy storage convention\n",
    "alms_hp = sht.convert_alm_healpy(alms)\n",
    "alms_hp = (alms_hp[0,:,:] + 1j * alms_hp[1,:,:])\n",
    "\n"
   ]
  },
  {
   "cell_type": "markdown",
   "id": "3e65f2b1-1cf9-4c34-b25a-a7247959f6ca",
   "metadata": {},
   "source": [
    "# Alms to maps"
   ]
  },
  {
   "cell_type": "code",
   "execution_count": 8,
   "id": "83a0ff38-d006-46c9-9724-a9e007ff7525",
   "metadata": {},
   "outputs": [],
   "source": [
    "# convert alms to maps\n",
    "maps_ = sht.alm2t(alms)"
   ]
  },
  {
   "cell_type": "markdown",
   "id": "1cc75210-278b-4692-8138-35caee41e1d9",
   "metadata": {},
   "source": [
    "# QU to EB"
   ]
  },
  {
   "cell_type": "code",
   "execution_count": 10,
   "id": "0245c0e5-e065-43a4-a26b-91cf45781870",
   "metadata": {},
   "outputs": [],
   "source": [
    "sht = SHT.SHT(nside, lmax, nsim, pol=True)"
   ]
  },
  {
   "cell_type": "code",
   "execution_count": 11,
   "id": "5c0154ab-63a0-4964-9eea-80fcb4a25f6f",
   "metadata": {},
   "outputs": [],
   "source": [
    "almEs, almBs = sht.qu2eb(Q, U)\n",
    "\n",
    "almEs_hp = sht.convert_alm_healpy(almEs)\n",
    "almEs_hp = (almEs_hp[0,:,:] + 1j * almEs_hp[1,:,:])\n",
    "almBs_hp = sht.convert_alm_healpy(almBs)\n",
    "almBs_hp = (almBs_hp[0,:,:] + 1j * almBs_hp[1,:,:])"
   ]
  },
  {
   "cell_type": "code",
   "execution_count": null,
   "id": "f4fd48da-6016-4730-ba2d-1e68e80f254e",
   "metadata": {},
   "outputs": [],
   "source": []
  }
 ],
 "metadata": {
  "kernelspec": {
   "display_name": "Python 3 (ipykernel)",
   "language": "python",
   "name": "python3"
  },
  "language_info": {
   "codemirror_mode": {
    "name": "ipython",
    "version": 3
   },
   "file_extension": ".py",
   "mimetype": "text/x-python",
   "name": "python",
   "nbconvert_exporter": "python",
   "pygments_lexer": "ipython3",
   "version": "3.9.7"
  }
 },
 "nbformat": 4,
 "nbformat_minor": 5
}
