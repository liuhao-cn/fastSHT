{
 "cells": [
  {
   "cell_type": "markdown",
   "id": "961f8f71-706a-4945-a0cf-5d00a0485807",
   "metadata": {},
   "source": [
    "## Import modules"
   ]
  },
  {
   "cell_type": "code",
   "execution_count": 1,
   "id": "eb5e2166-9c9e-4186-83da-b1f73bdea21e",
   "metadata": {},
   "outputs": [],
   "source": [
    "import sys as sys\n",
    "import os\n",
    "\n",
    "seed = 23333\n",
    "\n",
    "n_proc = 8\n",
    "os.environ[\"OMP_NUM_THREADS\"] = str(n_proc) # export OMP_NUM_THREADS=4\n",
    "os.environ[\"OPENBLAS_NUM_THREADS\"] = str(n_proc) # export OPENBLAS_NUM_THREADS=4\n",
    "os.environ[\"MKL_NUM_THREADS\"] = str(n_proc) # export MKL_NUM_THREADS=6\n",
    "os.environ[\"VECLIB_MAXIMUM_THREADS\"] = str(n_proc) # export VECLIB_MAXIMUM_THREADS=4\n",
    "os.environ[\"NUMEXPR_NUM_THREADS\"] = str(n_proc) # export NUMEXPR_NUM_THREADS=6\n",
    "\n",
    "sys.path.append('..')\n",
    "from SHT import SHT\n",
    "\n",
    "import numpy as np\n",
    "import healpy as hp\n",
    "import matplotlib.pyplot as plt"
   ]
  },
  {
   "cell_type": "markdown",
   "id": "3d99edfd-faa6-4d83-8be3-dda6150d521d",
   "metadata": {},
   "source": [
    "## Set main parameters"
   ]
  },
  {
   "cell_type": "code",
   "execution_count": 2,
   "id": "1e1e7026-c0cf-47d3-a8ad-b76b98c3a4c9",
   "metadata": {},
   "outputs": [],
   "source": [
    "nside = 128        # nside\n",
    "lmax = 3*nside-1   # lmax\n",
    "nsim = 100         # number of maps\n",
    "niter = 3          # number of iterations\n",
    "\n",
    "npix = 12*nside**2"
   ]
  },
  {
   "cell_type": "markdown",
   "id": "4e5297b6-37aa-4948-bc08-4c9d84bce695",
   "metadata": {},
   "source": [
    "## Creating test temperature and polarization maps "
   ]
  },
  {
   "cell_type": "code",
   "execution_count": 3,
   "id": "10dd093c-2cab-4be0-87c6-211e4ed83df9",
   "metadata": {},
   "outputs": [],
   "source": [
    "np.random.seed(seed)\n",
    "\n",
    "T = np.asfortranarray(np.random.rand(npix, nsim))\n",
    "Q = np.asfortranarray(np.random.rand(npix, nsim))\n",
    "U = np.asfortranarray(np.random.rand(npix, nsim))"
   ]
  },
  {
   "cell_type": "markdown",
   "id": "789322cd-59d5-43a8-86ee-012ed91bca3d",
   "metadata": {},
   "source": [
    "## Initialize the SHT handle"
   ]
  },
  {
   "cell_type": "code",
   "execution_count": 4,
   "id": "6cc14375-a14a-482c-9eca-15de824e9880",
   "metadata": {},
   "outputs": [],
   "source": [
    "# For t2alm, both pol=False and pol=True works fine, but pol=False will use less memory\n",
    "sht = SHT(nside, lmax, nsim, niter, pol=False)"
   ]
  },
  {
   "cell_type": "markdown",
   "id": "554a2ae7-a890-4ff6-8f4d-f1c048bdecf9",
   "metadata": {},
   "source": [
    "## T to alms by fastSHT"
   ]
  },
  {
   "cell_type": "code",
   "execution_count": 5,
   "id": "a3142b3c-c309-400b-8cb8-74b9bebc6d0f",
   "metadata": {},
   "outputs": [],
   "source": [
    "alms = sht.t2alm_old(T)"
   ]
  },
  {
   "cell_type": "markdown",
   "id": "2b295c68-e125-4b72-9a82-a332fe8074d3",
   "metadata": {},
   "source": [
    "## T to alms by healpy"
   ]
  },
  {
   "cell_type": "code",
   "execution_count": 6,
   "id": "8e124f05-f4ad-4ef9-81a3-a02d27ff4f7a",
   "metadata": {},
   "outputs": [],
   "source": [
    "# convert alms into the healpy format\n",
    "alms_hp1 = sht.convert_alm_healpy(alms)\n",
    "alms_hp1 = alms_hp1[0,:,:] + 1j * alms_hp1[1,:,:]\n",
    "\n",
    "# compute alms directly from Healpy\n",
    "alms_hp2 = alms_hp1 * 0\n",
    "\n",
    "for i in range(nsim):\n",
    "    alms_hp2[:,i] = hp.map2alm(T[:,i], lmax=lmax, iter=niter)\n"
   ]
  },
  {
   "cell_type": "markdown",
   "id": "28c47e46-6908-4a79-bdbc-9b0cf778eb68",
   "metadata": {},
   "source": [
    "## Test the TT-accuracy with Healpy"
   ]
  },
  {
   "cell_type": "code",
   "execution_count": 7,
   "id": "387e83f0-d2fa-4760-8e5a-0d7fbf6d7463",
   "metadata": {},
   "outputs": [
    {
     "name": "stdout",
     "output_type": "stream",
     "text": [
      "Max. relative TT-error: 1.0741347820532222e-05\n"
     ]
    }
   ],
   "source": [
    "cl1 = np.array([hp.alm2cl(alms_hp1[:,i]) for i in range(nsim)])\n",
    "cl2 = np.array([hp.alm2cl(alms_hp2[:,i]) for i in range(nsim)])\n",
    "\n",
    "print('Max. relative TT-error:', (np.abs(cl2-cl1)/cl2.mean()).max() )\n"
   ]
  },
  {
   "cell_type": "markdown",
   "id": "1cc75210-278b-4692-8138-35caee41e1d9",
   "metadata": {},
   "source": [
    "## QU to EB"
   ]
  },
  {
   "cell_type": "code",
   "execution_count": 12,
   "id": "5c0154ab-63a0-4964-9eea-80fcb4a25f6f",
   "metadata": {},
   "outputs": [
    {
     "name": "stdout",
     "output_type": "stream",
     "text": [
      "Max. relative EE-error: 9.842635324829126e-06\n",
      "Max. relative BB-error: 9.823940508059835e-06\n"
     ]
    }
   ],
   "source": [
    "# For QU2EB one has to use pol=True\n",
    "sht = SHT(nside, lmax, nsim, niter, pol=True)\n",
    "\n",
    "almEs, almBs = sht.qu2eb(Q, U)\n",
    "\n",
    "almEs_hp1 = sht.convert_alm_healpy(almEs)\n",
    "almEs_hp1 = (almEs_hp1[0,:,:] + 1j * almEs_hp1[1,:,:])\n",
    "almBs_hp1 = sht.convert_alm_healpy(almBs)\n",
    "almBs_hp1 = (almBs_hp1[0,:,:] + 1j * almBs_hp1[1,:,:])\n",
    "\n",
    "# test with Healpy for EE and BB accuracy\n",
    "maps = np.asfortranarray( [T, Q, U ] )\n",
    "\n",
    "cache = np.array([hp.map2alm(maps[:,:,i], lmax=lmax, iter=niter) for i in range(nsim)])\n",
    "almEs_hp2 = cache[:,1,:].transpose()\n",
    "almBs_hp2 = cache[:,2,:].transpose()\n",
    "\n",
    "cl1 = np.array([hp.alm2cl(almEs_hp1[:,i]) for i in range(nsim)])\n",
    "cl2 = np.array([hp.alm2cl(almEs_hp2[:,i]) for i in range(nsim)])\n",
    "max_errEE = (np.abs(cl2 - cl1) / cl2.mean()).max()\n",
    "print('Max. relative EE-error:', max_errEE )\n",
    "\n",
    "cl1 = np.array([hp.alm2cl(almBs_hp1[:,i]) for i in range(nsim)])\n",
    "cl2 = np.array([hp.alm2cl(almBs_hp2[:,i]) for i in range(nsim)])\n",
    "max_errBB = (np.abs(cl2 - cl1) / cl2.mean()).max()\n",
    "print('Max. relative BB-error:', max_errBB )\n"
   ]
  },
  {
   "cell_type": "markdown",
   "id": "0425dafa-227e-4fc1-8045-c196b6bdb39c",
   "metadata": {},
   "source": [
    "## Alms to T"
   ]
  },
  {
   "cell_type": "code",
   "execution_count": 9,
   "id": "83a0ff38-d006-46c9-9724-a9e007ff7525",
   "metadata": {},
   "outputs": [
    {
     "name": "stdout",
     "output_type": "stream",
     "text": [
      "Max. relative T-error: 1.0168773321225963e-11\n"
     ]
    }
   ],
   "source": [
    "# convert alms to maps\n",
    "T1 = sht.alm2t(alms)\n",
    "\n",
    "T2 = np.array([hp.alm2map(alms_hp2[i,0,:], nside, pol=False) for i in range(nsim)]).transpose()\n",
    "\n",
    "max_errT = (np.abs(T2 - T1)/T2.std()).max()\n",
    "\n",
    "print('Max. relative T-error:', max_errT )"
   ]
  },
  {
   "cell_type": "markdown",
   "id": "4d987dfb-be2c-4562-96ea-f7de7c764b81",
   "metadata": {},
   "source": [
    "## EB to QU"
   ]
  },
  {
   "cell_type": "code",
   "execution_count": 10,
   "id": "d28cbf73-6f8b-495e-82ea-9496db73d152",
   "metadata": {},
   "outputs": [
    {
     "name": "stdout",
     "output_type": "stream",
     "text": [
      "Max. relative Q-error: 4.2177175235649695e-11\n",
      "Max. relative U-error: 4.500915857803861e-11\n"
     ]
    }
   ],
   "source": [
    "Q1, U1 = sht.eb2qu(almEs, almBs)\n",
    "\n",
    "maps2 = np.array([hp.alm2map(alms_hp2[i,:,:], nside, pol=True) for i in range(nsim)])\n",
    "Q2 = maps2[:,1,:].transpose()\n",
    "U2 = maps2[:,2,:].transpose()\n",
    "\n",
    "max_errQ = (np.abs(Q2 - Q1)/Q1.std()).max()\n",
    "max_errU = (np.abs(U2 - U1)/U1.std()).max()\n",
    "\n",
    "print('Max. relative Q-error:', max_errQ )\n",
    "print('Max. relative U-error:', max_errU )\n"
   ]
  },
  {
   "cell_type": "code",
   "execution_count": null,
   "id": "8de47dd3-abc8-4a3e-b075-6b1788b58deb",
   "metadata": {},
   "outputs": [],
   "source": []
  }
 ],
 "metadata": {
  "kernelspec": {
   "display_name": "py38",
   "language": "python",
   "name": "py38"
  },
  "language_info": {
   "codemirror_mode": {
    "name": "ipython",
    "version": 3
   },
   "file_extension": ".py",
   "mimetype": "text/x-python",
   "name": "python",
   "nbconvert_exporter": "python",
   "pygments_lexer": "ipython3",
   "version": "3.8.13"
  }
 },
 "nbformat": 4,
 "nbformat_minor": 5
}
