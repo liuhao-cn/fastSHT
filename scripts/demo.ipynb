{
 "cells": [
  {
   "cell_type": "code",
   "execution_count": 10,
   "id": "04282b52-c00f-4e3a-b30c-8be5e6ca17e4",
   "metadata": {},
   "outputs": [],
   "source": [
    "import os\n",
    "\n",
    "os.environ[\"OMP_NUM_THREADS\"] = \"4\" # export OMP_NUM_THREADS=4\n",
    "os.environ[\"OPENBLAS_NUM_THREADS\"] = \"4\" # export OPENBLAS_NUM_THREADS=4 \n",
    "os.environ[\"MKL_NUM_THREADS\"] = \"4\" # export MKL_NUM_THREADS=6\n",
    "os.environ[\"VECLIB_MAXIMUM_THREADS\"] = \"4\" # export VECLIB_MAXIMUM_THREADS=4\n",
    "os.environ[\"NUMEXPR_NUM_THREADS\"] = \"4\" # export NUMEXPR_NUM_THREADS=6\n"
   ]
  },
  {
   "cell_type": "code",
   "execution_count": 2,
   "id": "28a2383b-8808-4737-998c-0903080dd7c4",
   "metadata": {},
   "outputs": [],
   "source": [
    "import numpy as np\n",
    "\n",
    "import healpy as hp\n",
    "import sys as sys\n",
    "import matplotlib.pyplot as plt"
   ]
  },
  {
   "cell_type": "code",
   "execution_count": 3,
   "id": "0909f6ef-62eb-4f10-aad5-7c2ecdccbf52",
   "metadata": {},
   "outputs": [],
   "source": [
    "\n",
    "sys.path.append('..')\n",
    "import SHT"
   ]
  },
  {
   "cell_type": "code",
   "execution_count": 4,
   "id": "6baf092e-c757-4020-b3d9-d03959d73bc4",
   "metadata": {},
   "outputs": [],
   "source": [
    "nside = 128\n",
    "lmax = 383\n",
    "nsim = 2000\n"
   ]
  },
  {
   "cell_type": "code",
   "execution_count": 5,
   "id": "b5994899-539c-45af-bf63-97803eeb3e36",
   "metadata": {},
   "outputs": [],
   "source": [
    "cl = np.array([1 for l in range(1,lmax+1)] )\n",
    "np.random.seed(23333)\n",
    "maps = np.asfortranarray(np.transpose([hp.sphtfunc.synfast(cl, nside, lmax)\n",
    "                 for i in range(nsim)]) )"
   ]
  },
  {
   "cell_type": "code",
   "execution_count": 6,
   "id": "51b9caa9-9cc2-42f1-89e0-149acfa67895",
   "metadata": {},
   "outputs": [],
   "source": [
    "sht = SHT.SHT(nside, lmax, nsim)"
   ]
  },
  {
   "cell_type": "code",
   "execution_count": 7,
   "id": "46d9ba34-e0bb-484e-bf40-2863bed2847c",
   "metadata": {},
   "outputs": [
    {
     "name": "stdout",
     "output_type": "stream",
     "text": [
      "CPU times: user 15 s, sys: 1.35 s, total: 16.4 s\n",
      "Wall time: 4.86 s\n"
     ]
    }
   ],
   "source": [
    "%%time\n",
    "alms = sht.t2alm(maps)"
   ]
  },
  {
   "cell_type": "code",
   "execution_count": 11,
   "id": "70a66e0e-761b-4cda-9446-8dc1cf4dc3e7",
   "metadata": {},
   "outputs": [],
   "source": [
    "alms_hp = sht.convert_alm_healpy(alms)"
   ]
  },
  {
   "cell_type": "code",
   "execution_count": 12,
   "id": "097c662e-dde4-4abc-ae01-ba649c6d2de8",
   "metadata": {},
   "outputs": [],
   "source": [
    "alms_hp = (alms_hp[0,:,:] + 1j * alms_hp[1,:,:])"
   ]
  },
  {
   "cell_type": "code",
   "execution_count": 8,
   "id": "6e812ca7-5f95-4b62-94cf-370cf85a9f66",
   "metadata": {},
   "outputs": [
    {
     "name": "stdout",
     "output_type": "stream",
     "text": [
      "CPU times: user 50.6 s, sys: 3.51 s, total: 54.1 s\n",
      "Wall time: 14.5 s\n"
     ]
    }
   ],
   "source": [
    "%%time\n",
    "alms2_hp = np.array([hp.map2alm(maps[:,i], lmax=lmax, iter=0) for i in range(nsim)])"
   ]
  },
  {
   "cell_type": "code",
   "execution_count": 33,
   "id": "9ecc056f-2506-401d-a59c-c8f65c760f90",
   "metadata": {},
   "outputs": [],
   "source": [
    "sys.path.append('./obj')\n",
    "import fastSHT"
   ]
  },
  {
   "cell_type": "code",
   "execution_count": 15,
   "id": "a0037927-498d-41e0-a461-488d3159a124",
   "metadata": {},
   "outputs": [
    {
     "data": {
      "text/plain": [
       "[<matplotlib.lines.Line2D at 0x7fd17582f6a0>]"
      ]
     },
     "execution_count": 15,
     "metadata": {},
     "output_type": "execute_result"
    },
    {
     "data": {
      "image/png": "[encoded data removed]",
      "text/plain": [
       "<Figure size 432x288 with 1 Axes>"
      ]
     },
     "metadata": {
      "needs_background": "light"
     },
     "output_type": "display_data"
    }
   ],
   "source": [
    "plt.plot(hp.alm2cl(alms2_hp[0,:]))\n",
    "#plt.xlim(0,350)\n",
    "#plt.ylim(0,2)"
   ]
  },
  {
   "cell_type": "code",
   "execution_count": 13,
   "id": "0f2a0db3-cf44-4e41-81ca-a319278ddaaa",
   "metadata": {},
   "outputs": [
    {
     "data": {
      "text/plain": [
       "[<matplotlib.lines.Line2D at 0x7fd38e122b50>]"
      ]
     },
     "execution_count": 13,
     "metadata": {},
     "output_type": "execute_result"
    },
    {
     "data": {
      "image/png": "[encoded data removed]",
      "text/plain": [
       "<Figure size 432x288 with 1 Axes>"
      ]
     },
     "metadata": {
      "needs_background": "light"
     },
     "output_type": "display_data"
    }
   ],
   "source": [
    "plt.plot(hp.alm2cl(alms_hp[:,0]))\n",
    "#plt.xlim(0,350)\n",
    "#plt.ylim(0,2)"
   ]
  },
  {
   "cell_type": "code",
   "execution_count": 24,
   "id": "e0c66939-ef0c-4258-814b-b548a8882c71",
   "metadata": {},
   "outputs": [],
   "source": [
    "cl = np.array([hp.alm2cl(alms_hp[:,i]) for i in range(nsim)])\n",
    "cl2 = np.array([hp.alm2cl(alms2_hp[i,:]) for i in range(nsim)])"
   ]
  },
  {
   "cell_type": "code",
   "execution_count": 27,
   "id": "b45f5440-f372-4a07-aa59-36f03c65f4a4",
   "metadata": {},
   "outputs": [
    {
     "data": {
      "text/plain": [
       "3.9577852358078905e-07"
      ]
     },
     "execution_count": 27,
     "metadata": {},
     "output_type": "execute_result"
    }
   ],
   "source": [
    "(np.abs(cl2 - cl) / cl.mean()).max()"
   ]
  },
  {
   "cell_type": "code",
   "execution_count": null,
   "id": "1de41da9-062e-4214-9c9b-4a21a08a976c",
   "metadata": {},
   "outputs": [],
   "source": []
  }
 ],
 "metadata": {
  "kernelspec": {
   "display_name": "Python 3 (ipykernel)",
   "language": "python",
   "name": "python3"
  },
  "language_info": {
   "codemirror_mode": {
    "name": "ipython",
    "version": 3
   },
   "file_extension": ".py",
   "mimetype": "text/x-python",
   "name": "python",
   "nbconvert_exporter": "python",
   "pygments_lexer": "ipython3",
   "version": "3.9.7"
  }
 },
 "nbformat": 4,
 "nbformat_minor": 5
}
